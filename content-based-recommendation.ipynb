{
 "cells": [
  {
   "cell_type": "code",
   "execution_count": 1,
   "id": "362d0d56",
   "metadata": {
    "execution": {
     "iopub.execute_input": "2024-09-21T15:14:50.620221Z",
     "iopub.status.busy": "2024-09-21T15:14:50.619686Z",
     "iopub.status.idle": "2024-09-21T15:14:52.670207Z",
     "shell.execute_reply": "2024-09-21T15:14:52.668754Z"
    },
    "papermill": {
     "duration": 2.064581,
     "end_time": "2024-09-21T15:14:52.673605",
     "exception": false,
     "start_time": "2024-09-21T15:14:50.609024",
     "status": "completed"
    },
    "tags": []
   },
   "outputs": [],
   "source": [
    "import pandas as pd\n",
    "pd.set_option('display.max_columns', None)\n",
    "pd.set_option('display.width', 500)\n",
    "pd.set_option('display.expand_frame_repr', False)\n",
    "from sklearn.feature_extraction.text import TfidfVectorizer\n",
    "from sklearn.metrics.pairwise import cosine_similarity"
   ]
  },
  {
   "cell_type": "code",
   "execution_count": 2,
   "id": "d93b4e3b",
   "metadata": {
    "execution": {
     "iopub.execute_input": "2024-09-21T15:14:52.693700Z",
     "iopub.status.busy": "2024-09-21T15:14:52.692100Z",
     "iopub.status.idle": "2024-09-21T15:14:54.254432Z",
     "shell.execute_reply": "2024-09-21T15:14:54.253159Z"
    },
    "papermill": {
     "duration": 1.575221,
     "end_time": "2024-09-21T15:14:54.257331",
     "exception": false,
     "start_time": "2024-09-21T15:14:52.682110",
     "status": "completed"
    },
    "tags": []
   },
   "outputs": [],
   "source": [
    "df = pd.read_csv(\"/kaggle/input/the-movies-dataset/movies_metadata.csv\", low_memory=False)"
   ]
  },
  {
   "cell_type": "code",
   "execution_count": 3,
   "id": "50410918",
   "metadata": {
    "execution": {
     "iopub.execute_input": "2024-09-21T15:14:54.275597Z",
     "iopub.status.busy": "2024-09-21T15:14:54.275131Z",
     "iopub.status.idle": "2024-09-21T15:14:54.315129Z",
     "shell.execute_reply": "2024-09-21T15:14:54.314071Z"
    },
    "papermill": {
     "duration": 0.052256,
     "end_time": "2024-09-21T15:14:54.317749",
     "exception": false,
     "start_time": "2024-09-21T15:14:54.265493",
     "status": "completed"
    },
    "tags": []
   },
   "outputs": [
    {
     "data": {
      "text/html": [
       "<div>\n",
       "<style scoped>\n",
       "    .dataframe tbody tr th:only-of-type {\n",
       "        vertical-align: middle;\n",
       "    }\n",
       "\n",
       "    .dataframe tbody tr th {\n",
       "        vertical-align: top;\n",
       "    }\n",
       "\n",
       "    .dataframe thead th {\n",
       "        text-align: right;\n",
       "    }\n",
       "</style>\n",
       "<table border=\"1\" class=\"dataframe\">\n",
       "  <thead>\n",
       "    <tr style=\"text-align: right;\">\n",
       "      <th></th>\n",
       "      <th>adult</th>\n",
       "      <th>belongs_to_collection</th>\n",
       "      <th>budget</th>\n",
       "      <th>genres</th>\n",
       "      <th>homepage</th>\n",
       "      <th>id</th>\n",
       "      <th>imdb_id</th>\n",
       "      <th>original_language</th>\n",
       "      <th>original_title</th>\n",
       "      <th>overview</th>\n",
       "      <th>popularity</th>\n",
       "      <th>poster_path</th>\n",
       "      <th>production_companies</th>\n",
       "      <th>production_countries</th>\n",
       "      <th>release_date</th>\n",
       "      <th>revenue</th>\n",
       "      <th>runtime</th>\n",
       "      <th>spoken_languages</th>\n",
       "      <th>status</th>\n",
       "      <th>tagline</th>\n",
       "      <th>title</th>\n",
       "      <th>video</th>\n",
       "      <th>vote_average</th>\n",
       "      <th>vote_count</th>\n",
       "    </tr>\n",
       "  </thead>\n",
       "  <tbody>\n",
       "    <tr>\n",
       "      <th>0</th>\n",
       "      <td>False</td>\n",
       "      <td>{'id': 10194, 'name': 'Toy Story Collection', ...</td>\n",
       "      <td>30000000</td>\n",
       "      <td>[{'id': 16, 'name': 'Animation'}, {'id': 35, '...</td>\n",
       "      <td>http://toystory.disney.com/toy-story</td>\n",
       "      <td>862</td>\n",
       "      <td>tt0114709</td>\n",
       "      <td>en</td>\n",
       "      <td>Toy Story</td>\n",
       "      <td>Led by Woody, Andy's toys live happily in his ...</td>\n",
       "      <td>21.946943</td>\n",
       "      <td>/rhIRbceoE9lR4veEXuwCC2wARtG.jpg</td>\n",
       "      <td>[{'name': 'Pixar Animation Studios', 'id': 3}]</td>\n",
       "      <td>[{'iso_3166_1': 'US', 'name': 'United States o...</td>\n",
       "      <td>1995-10-30</td>\n",
       "      <td>373554033.0</td>\n",
       "      <td>81.0</td>\n",
       "      <td>[{'iso_639_1': 'en', 'name': 'English'}]</td>\n",
       "      <td>Released</td>\n",
       "      <td>NaN</td>\n",
       "      <td>Toy Story</td>\n",
       "      <td>False</td>\n",
       "      <td>7.7</td>\n",
       "      <td>5415.0</td>\n",
       "    </tr>\n",
       "    <tr>\n",
       "      <th>1</th>\n",
       "      <td>False</td>\n",
       "      <td>NaN</td>\n",
       "      <td>65000000</td>\n",
       "      <td>[{'id': 12, 'name': 'Adventure'}, {'id': 14, '...</td>\n",
       "      <td>NaN</td>\n",
       "      <td>8844</td>\n",
       "      <td>tt0113497</td>\n",
       "      <td>en</td>\n",
       "      <td>Jumanji</td>\n",
       "      <td>When siblings Judy and Peter discover an encha...</td>\n",
       "      <td>17.015539</td>\n",
       "      <td>/vzmL6fP7aPKNKPRTFnZmiUfciyV.jpg</td>\n",
       "      <td>[{'name': 'TriStar Pictures', 'id': 559}, {'na...</td>\n",
       "      <td>[{'iso_3166_1': 'US', 'name': 'United States o...</td>\n",
       "      <td>1995-12-15</td>\n",
       "      <td>262797249.0</td>\n",
       "      <td>104.0</td>\n",
       "      <td>[{'iso_639_1': 'en', 'name': 'English'}, {'iso...</td>\n",
       "      <td>Released</td>\n",
       "      <td>Roll the dice and unleash the excitement!</td>\n",
       "      <td>Jumanji</td>\n",
       "      <td>False</td>\n",
       "      <td>6.9</td>\n",
       "      <td>2413.0</td>\n",
       "    </tr>\n",
       "    <tr>\n",
       "      <th>2</th>\n",
       "      <td>False</td>\n",
       "      <td>{'id': 119050, 'name': 'Grumpy Old Men Collect...</td>\n",
       "      <td>0</td>\n",
       "      <td>[{'id': 10749, 'name': 'Romance'}, {'id': 35, ...</td>\n",
       "      <td>NaN</td>\n",
       "      <td>15602</td>\n",
       "      <td>tt0113228</td>\n",
       "      <td>en</td>\n",
       "      <td>Grumpier Old Men</td>\n",
       "      <td>A family wedding reignites the ancient feud be...</td>\n",
       "      <td>11.7129</td>\n",
       "      <td>/6ksm1sjKMFLbO7UY2i6G1ju9SML.jpg</td>\n",
       "      <td>[{'name': 'Warner Bros.', 'id': 6194}, {'name'...</td>\n",
       "      <td>[{'iso_3166_1': 'US', 'name': 'United States o...</td>\n",
       "      <td>1995-12-22</td>\n",
       "      <td>0.0</td>\n",
       "      <td>101.0</td>\n",
       "      <td>[{'iso_639_1': 'en', 'name': 'English'}]</td>\n",
       "      <td>Released</td>\n",
       "      <td>Still Yelling. Still Fighting. Still Ready for...</td>\n",
       "      <td>Grumpier Old Men</td>\n",
       "      <td>False</td>\n",
       "      <td>6.5</td>\n",
       "      <td>92.0</td>\n",
       "    </tr>\n",
       "    <tr>\n",
       "      <th>3</th>\n",
       "      <td>False</td>\n",
       "      <td>NaN</td>\n",
       "      <td>16000000</td>\n",
       "      <td>[{'id': 35, 'name': 'Comedy'}, {'id': 18, 'nam...</td>\n",
       "      <td>NaN</td>\n",
       "      <td>31357</td>\n",
       "      <td>tt0114885</td>\n",
       "      <td>en</td>\n",
       "      <td>Waiting to Exhale</td>\n",
       "      <td>Cheated on, mistreated and stepped on, the wom...</td>\n",
       "      <td>3.859495</td>\n",
       "      <td>/16XOMpEaLWkrcPqSQqhTmeJuqQl.jpg</td>\n",
       "      <td>[{'name': 'Twentieth Century Fox Film Corporat...</td>\n",
       "      <td>[{'iso_3166_1': 'US', 'name': 'United States o...</td>\n",
       "      <td>1995-12-22</td>\n",
       "      <td>81452156.0</td>\n",
       "      <td>127.0</td>\n",
       "      <td>[{'iso_639_1': 'en', 'name': 'English'}]</td>\n",
       "      <td>Released</td>\n",
       "      <td>Friends are the people who let you be yourself...</td>\n",
       "      <td>Waiting to Exhale</td>\n",
       "      <td>False</td>\n",
       "      <td>6.1</td>\n",
       "      <td>34.0</td>\n",
       "    </tr>\n",
       "    <tr>\n",
       "      <th>4</th>\n",
       "      <td>False</td>\n",
       "      <td>{'id': 96871, 'name': 'Father of the Bride Col...</td>\n",
       "      <td>0</td>\n",
       "      <td>[{'id': 35, 'name': 'Comedy'}]</td>\n",
       "      <td>NaN</td>\n",
       "      <td>11862</td>\n",
       "      <td>tt0113041</td>\n",
       "      <td>en</td>\n",
       "      <td>Father of the Bride Part II</td>\n",
       "      <td>Just when George Banks has recovered from his ...</td>\n",
       "      <td>8.387519</td>\n",
       "      <td>/e64sOI48hQXyru7naBFyssKFxVd.jpg</td>\n",
       "      <td>[{'name': 'Sandollar Productions', 'id': 5842}...</td>\n",
       "      <td>[{'iso_3166_1': 'US', 'name': 'United States o...</td>\n",
       "      <td>1995-02-10</td>\n",
       "      <td>76578911.0</td>\n",
       "      <td>106.0</td>\n",
       "      <td>[{'iso_639_1': 'en', 'name': 'English'}]</td>\n",
       "      <td>Released</td>\n",
       "      <td>Just When His World Is Back To Normal... He's ...</td>\n",
       "      <td>Father of the Bride Part II</td>\n",
       "      <td>False</td>\n",
       "      <td>5.7</td>\n",
       "      <td>173.0</td>\n",
       "    </tr>\n",
       "  </tbody>\n",
       "</table>\n",
       "</div>"
      ],
      "text/plain": [
       "   adult                              belongs_to_collection    budget                                             genres                              homepage     id    imdb_id original_language               original_title                                           overview popularity                       poster_path                               production_companies                               production_countries release_date      revenue  runtime                                   spoken_languages    status                                            tagline                        title  video  vote_average  vote_count\n",
       "0  False  {'id': 10194, 'name': 'Toy Story Collection', ...  30000000  [{'id': 16, 'name': 'Animation'}, {'id': 35, '...  http://toystory.disney.com/toy-story    862  tt0114709                en                    Toy Story  Led by Woody, Andy's toys live happily in his ...  21.946943  /rhIRbceoE9lR4veEXuwCC2wARtG.jpg     [{'name': 'Pixar Animation Studios', 'id': 3}]  [{'iso_3166_1': 'US', 'name': 'United States o...   1995-10-30  373554033.0     81.0           [{'iso_639_1': 'en', 'name': 'English'}]  Released                                                NaN                    Toy Story  False           7.7      5415.0\n",
       "1  False                                                NaN  65000000  [{'id': 12, 'name': 'Adventure'}, {'id': 14, '...                                   NaN   8844  tt0113497                en                      Jumanji  When siblings Judy and Peter discover an encha...  17.015539  /vzmL6fP7aPKNKPRTFnZmiUfciyV.jpg  [{'name': 'TriStar Pictures', 'id': 559}, {'na...  [{'iso_3166_1': 'US', 'name': 'United States o...   1995-12-15  262797249.0    104.0  [{'iso_639_1': 'en', 'name': 'English'}, {'iso...  Released          Roll the dice and unleash the excitement!                      Jumanji  False           6.9      2413.0\n",
       "2  False  {'id': 119050, 'name': 'Grumpy Old Men Collect...         0  [{'id': 10749, 'name': 'Romance'}, {'id': 35, ...                                   NaN  15602  tt0113228                en             Grumpier Old Men  A family wedding reignites the ancient feud be...    11.7129  /6ksm1sjKMFLbO7UY2i6G1ju9SML.jpg  [{'name': 'Warner Bros.', 'id': 6194}, {'name'...  [{'iso_3166_1': 'US', 'name': 'United States o...   1995-12-22          0.0    101.0           [{'iso_639_1': 'en', 'name': 'English'}]  Released  Still Yelling. Still Fighting. Still Ready for...             Grumpier Old Men  False           6.5        92.0\n",
       "3  False                                                NaN  16000000  [{'id': 35, 'name': 'Comedy'}, {'id': 18, 'nam...                                   NaN  31357  tt0114885                en            Waiting to Exhale  Cheated on, mistreated and stepped on, the wom...   3.859495  /16XOMpEaLWkrcPqSQqhTmeJuqQl.jpg  [{'name': 'Twentieth Century Fox Film Corporat...  [{'iso_3166_1': 'US', 'name': 'United States o...   1995-12-22   81452156.0    127.0           [{'iso_639_1': 'en', 'name': 'English'}]  Released  Friends are the people who let you be yourself...            Waiting to Exhale  False           6.1        34.0\n",
       "4  False  {'id': 96871, 'name': 'Father of the Bride Col...         0                     [{'id': 35, 'name': 'Comedy'}]                                   NaN  11862  tt0113041                en  Father of the Bride Part II  Just when George Banks has recovered from his ...   8.387519  /e64sOI48hQXyru7naBFyssKFxVd.jpg  [{'name': 'Sandollar Productions', 'id': 5842}...  [{'iso_3166_1': 'US', 'name': 'United States o...   1995-02-10   76578911.0    106.0           [{'iso_639_1': 'en', 'name': 'English'}]  Released  Just When His World Is Back To Normal... He's ...  Father of the Bride Part II  False           5.7       173.0"
      ]
     },
     "execution_count": 3,
     "metadata": {},
     "output_type": "execute_result"
    }
   ],
   "source": [
    "df.head()"
   ]
  },
  {
   "cell_type": "code",
   "execution_count": 4,
   "id": "04764fa0",
   "metadata": {
    "execution": {
     "iopub.execute_input": "2024-09-21T15:14:54.337221Z",
     "iopub.status.busy": "2024-09-21T15:14:54.336814Z",
     "iopub.status.idle": "2024-09-21T15:14:54.343988Z",
     "shell.execute_reply": "2024-09-21T15:14:54.342922Z"
    },
    "papermill": {
     "duration": 0.019758,
     "end_time": "2024-09-21T15:14:54.346444",
     "exception": false,
     "start_time": "2024-09-21T15:14:54.326686",
     "status": "completed"
    },
    "tags": []
   },
   "outputs": [
    {
     "data": {
      "text/plain": [
       "(45466, 24)"
      ]
     },
     "execution_count": 4,
     "metadata": {},
     "output_type": "execute_result"
    }
   ],
   "source": [
    "df.shape"
   ]
  },
  {
   "cell_type": "code",
   "execution_count": 5,
   "id": "ce7cac51",
   "metadata": {
    "execution": {
     "iopub.execute_input": "2024-09-21T15:14:54.366394Z",
     "iopub.status.busy": "2024-09-21T15:14:54.365381Z",
     "iopub.status.idle": "2024-09-21T15:14:54.381718Z",
     "shell.execute_reply": "2024-09-21T15:14:54.380619Z"
    },
    "papermill": {
     "duration": 0.028877,
     "end_time": "2024-09-21T15:14:54.384052",
     "exception": false,
     "start_time": "2024-09-21T15:14:54.355175",
     "status": "completed"
    },
    "tags": []
   },
   "outputs": [
    {
     "data": {
      "text/plain": [
       "954"
      ]
     },
     "execution_count": 5,
     "metadata": {},
     "output_type": "execute_result"
    }
   ],
   "source": [
    "df['overview'].isnull().sum()"
   ]
  },
  {
   "cell_type": "code",
   "execution_count": 6,
   "id": "e5d3f222",
   "metadata": {
    "execution": {
     "iopub.execute_input": "2024-09-21T15:14:54.403749Z",
     "iopub.status.busy": "2024-09-21T15:14:54.403290Z",
     "iopub.status.idle": "2024-09-21T15:14:54.412234Z",
     "shell.execute_reply": "2024-09-21T15:14:54.410900Z"
    },
    "papermill": {
     "duration": 0.021932,
     "end_time": "2024-09-21T15:14:54.414754",
     "exception": false,
     "start_time": "2024-09-21T15:14:54.392822",
     "status": "completed"
    },
    "tags": []
   },
   "outputs": [
    {
     "data": {
      "text/plain": [
       "0    Led by Woody, Andy's toys live happily in his ...\n",
       "1    When siblings Judy and Peter discover an encha...\n",
       "2    A family wedding reignites the ancient feud be...\n",
       "3    Cheated on, mistreated and stepped on, the wom...\n",
       "4    Just when George Banks has recovered from his ...\n",
       "Name: overview, dtype: object"
      ]
     },
     "execution_count": 6,
     "metadata": {},
     "output_type": "execute_result"
    }
   ],
   "source": [
    "df[\"overview\"].head()"
   ]
  },
  {
   "cell_type": "code",
   "execution_count": 7,
   "id": "cc92c89c",
   "metadata": {
    "execution": {
     "iopub.execute_input": "2024-09-21T15:14:54.434291Z",
     "iopub.status.busy": "2024-09-21T15:14:54.433842Z",
     "iopub.status.idle": "2024-09-21T15:14:54.439125Z",
     "shell.execute_reply": "2024-09-21T15:14:54.437926Z"
    },
    "papermill": {
     "duration": 0.017971,
     "end_time": "2024-09-21T15:14:54.441653",
     "exception": false,
     "start_time": "2024-09-21T15:14:54.423682",
     "status": "completed"
    },
    "tags": []
   },
   "outputs": [],
   "source": [
    "tfidf = TfidfVectorizer(stop_words=\"english\")"
   ]
  },
  {
   "cell_type": "code",
   "execution_count": 8,
   "id": "e71a33d7",
   "metadata": {
    "execution": {
     "iopub.execute_input": "2024-09-21T15:14:54.461711Z",
     "iopub.status.busy": "2024-09-21T15:14:54.461263Z",
     "iopub.status.idle": "2024-09-21T15:14:54.478245Z",
     "shell.execute_reply": "2024-09-21T15:14:54.477117Z"
    },
    "papermill": {
     "duration": 0.030104,
     "end_time": "2024-09-21T15:14:54.480972",
     "exception": false,
     "start_time": "2024-09-21T15:14:54.450868",
     "status": "completed"
    },
    "tags": []
   },
   "outputs": [],
   "source": [
    "df['overview'] = df['overview'].fillna('')"
   ]
  },
  {
   "cell_type": "code",
   "execution_count": 9,
   "id": "191d39e7",
   "metadata": {
    "execution": {
     "iopub.execute_input": "2024-09-21T15:14:54.501099Z",
     "iopub.status.busy": "2024-09-21T15:14:54.500638Z",
     "iopub.status.idle": "2024-09-21T15:14:58.031160Z",
     "shell.execute_reply": "2024-09-21T15:14:58.029772Z"
    },
    "papermill": {
     "duration": 3.545142,
     "end_time": "2024-09-21T15:14:58.035045",
     "exception": false,
     "start_time": "2024-09-21T15:14:54.489903",
     "status": "completed"
    },
    "tags": []
   },
   "outputs": [],
   "source": [
    "tfidf_matrix = tfidf.fit_transform(df['overview'])"
   ]
  },
  {
   "cell_type": "code",
   "execution_count": 10,
   "id": "1e3678b8",
   "metadata": {
    "execution": {
     "iopub.execute_input": "2024-09-21T15:14:58.057350Z",
     "iopub.status.busy": "2024-09-21T15:14:58.056914Z",
     "iopub.status.idle": "2024-09-21T15:14:58.065721Z",
     "shell.execute_reply": "2024-09-21T15:14:58.064291Z"
    },
    "papermill": {
     "duration": 0.023133,
     "end_time": "2024-09-21T15:14:58.068453",
     "exception": false,
     "start_time": "2024-09-21T15:14:58.045320",
     "status": "completed"
    },
    "tags": []
   },
   "outputs": [
    {
     "data": {
      "text/plain": [
       "(45466, 75827)"
      ]
     },
     "execution_count": 10,
     "metadata": {},
     "output_type": "execute_result"
    }
   ],
   "source": [
    "tfidf_matrix.shape"
   ]
  },
  {
   "cell_type": "code",
   "execution_count": 11,
   "id": "f8105cb7",
   "metadata": {
    "execution": {
     "iopub.execute_input": "2024-09-21T15:14:58.089418Z",
     "iopub.status.busy": "2024-09-21T15:14:58.088951Z",
     "iopub.status.idle": "2024-09-21T15:14:58.097340Z",
     "shell.execute_reply": "2024-09-21T15:14:58.095940Z"
    },
    "papermill": {
     "duration": 0.022289,
     "end_time": "2024-09-21T15:14:58.100350",
     "exception": false,
     "start_time": "2024-09-21T15:14:58.078061",
     "status": "completed"
    },
    "tags": []
   },
   "outputs": [
    {
     "data": {
      "text/plain": [
       "(45466,)"
      ]
     },
     "execution_count": 11,
     "metadata": {},
     "output_type": "execute_result"
    }
   ],
   "source": [
    "df['title'].shape"
   ]
  },
  {
   "cell_type": "code",
   "execution_count": 12,
   "id": "683ebb7b",
   "metadata": {
    "execution": {
     "iopub.execute_input": "2024-09-21T15:14:58.123529Z",
     "iopub.status.busy": "2024-09-21T15:14:58.123007Z",
     "iopub.status.idle": "2024-09-21T15:14:58.241583Z",
     "shell.execute_reply": "2024-09-21T15:14:58.239983Z"
    },
    "papermill": {
     "duration": 0.133033,
     "end_time": "2024-09-21T15:14:58.244240",
     "exception": false,
     "start_time": "2024-09-21T15:14:58.111207",
     "status": "completed"
    },
    "tags": []
   },
   "outputs": [
    {
     "data": {
      "text/plain": [
       "array(['00', '000', '000km', ..., '첫사랑', 'ﬁrst', 'ﬁve'], dtype=object)"
      ]
     },
     "execution_count": 12,
     "metadata": {},
     "output_type": "execute_result"
    }
   ],
   "source": [
    "tfidf.get_feature_names_out()"
   ]
  },
  {
   "cell_type": "code",
   "execution_count": 13,
   "id": "5cc0f904",
   "metadata": {
    "execution": {
     "iopub.execute_input": "2024-09-21T15:14:58.266519Z",
     "iopub.status.busy": "2024-09-21T15:14:58.266025Z",
     "iopub.status.idle": "2024-09-21T15:15:05.080561Z",
     "shell.execute_reply": "2024-09-21T15:15:05.079242Z"
    },
    "papermill": {
     "duration": 6.828985,
     "end_time": "2024-09-21T15:15:05.083472",
     "exception": false,
     "start_time": "2024-09-21T15:14:58.254487",
     "status": "completed"
    },
    "tags": []
   },
   "outputs": [
    {
     "data": {
      "text/plain": [
       "array([[0., 0., 0., ..., 0., 0., 0.],\n",
       "       [0., 0., 0., ..., 0., 0., 0.],\n",
       "       [0., 0., 0., ..., 0., 0., 0.],\n",
       "       ...,\n",
       "       [0., 0., 0., ..., 0., 0., 0.],\n",
       "       [0., 0., 0., ..., 0., 0., 0.],\n",
       "       [0., 0., 0., ..., 0., 0., 0.]])"
      ]
     },
     "execution_count": 13,
     "metadata": {},
     "output_type": "execute_result"
    }
   ],
   "source": [
    "tfidf_matrix.toarray()"
   ]
  },
  {
   "cell_type": "code",
   "execution_count": 14,
   "id": "41282117",
   "metadata": {
    "execution": {
     "iopub.execute_input": "2024-09-21T15:15:05.105121Z",
     "iopub.status.busy": "2024-09-21T15:15:05.104672Z",
     "iopub.status.idle": "2024-09-21T15:15:49.401973Z",
     "shell.execute_reply": "2024-09-21T15:15:49.400826Z"
    },
    "papermill": {
     "duration": 44.320148,
     "end_time": "2024-09-21T15:15:49.413295",
     "exception": false,
     "start_time": "2024-09-21T15:15:05.093147",
     "status": "completed"
    },
    "tags": []
   },
   "outputs": [
    {
     "data": {
      "text/plain": [
       "(45466, 45466)"
      ]
     },
     "execution_count": 14,
     "metadata": {},
     "output_type": "execute_result"
    }
   ],
   "source": [
    "cosine_sim = cosine_similarity(tfidf_matrix,\n",
    "                               tfidf_matrix)\n",
    "\n",
    "cosine_sim.shape"
   ]
  },
  {
   "cell_type": "code",
   "execution_count": 15,
   "id": "0f338140",
   "metadata": {
    "execution": {
     "iopub.execute_input": "2024-09-21T15:15:49.434591Z",
     "iopub.status.busy": "2024-09-21T15:15:49.434098Z",
     "iopub.status.idle": "2024-09-21T15:15:49.442491Z",
     "shell.execute_reply": "2024-09-21T15:15:49.441508Z"
    },
    "papermill": {
     "duration": 0.022006,
     "end_time": "2024-09-21T15:15:49.444895",
     "exception": false,
     "start_time": "2024-09-21T15:15:49.422889",
     "status": "completed"
    },
    "tags": []
   },
   "outputs": [
    {
     "data": {
      "text/plain": [
       "array([0.01504121, 1.        , 0.04681953, ..., 0.        , 0.02198641,\n",
       "       0.00929411])"
      ]
     },
     "execution_count": 15,
     "metadata": {},
     "output_type": "execute_result"
    }
   ],
   "source": [
    "cosine_sim[1]"
   ]
  },
  {
   "cell_type": "code",
   "execution_count": 16,
   "id": "24cdbdc4",
   "metadata": {
    "execution": {
     "iopub.execute_input": "2024-09-21T15:15:49.466681Z",
     "iopub.status.busy": "2024-09-21T15:15:49.466212Z",
     "iopub.status.idle": "2024-09-21T15:15:49.511999Z",
     "shell.execute_reply": "2024-09-21T15:15:49.510882Z"
    },
    "papermill": {
     "duration": 0.05951,
     "end_time": "2024-09-21T15:15:49.514460",
     "exception": false,
     "start_time": "2024-09-21T15:15:49.454950",
     "status": "completed"
    },
    "tags": []
   },
   "outputs": [
    {
     "data": {
      "text/plain": [
       "title\n",
       "Cinderella              11\n",
       "Hamlet                   9\n",
       "Alice in Wonderland      9\n",
       "Beauty and the Beast     8\n",
       "Les Misérables           8\n",
       "                        ..\n",
       "Cluny Brown              1\n",
       "Babies                   1\n",
       "The Green Room           1\n",
       "Captain Conan            1\n",
       "Queerama                 1\n",
       "Name: count, Length: 42277, dtype: int64"
      ]
     },
     "execution_count": 16,
     "metadata": {},
     "output_type": "execute_result"
    }
   ],
   "source": [
    "indices = pd.Series(df.index, index=df['title'])\n",
    "indices.index.value_counts()"
   ]
  },
  {
   "cell_type": "code",
   "execution_count": 17,
   "id": "0711cfa6",
   "metadata": {
    "execution": {
     "iopub.execute_input": "2024-09-21T15:15:49.536668Z",
     "iopub.status.busy": "2024-09-21T15:15:49.535762Z",
     "iopub.status.idle": "2024-09-21T15:15:49.552962Z",
     "shell.execute_reply": "2024-09-21T15:15:49.551616Z"
    },
    "papermill": {
     "duration": 0.031344,
     "end_time": "2024-09-21T15:15:49.555776",
     "exception": false,
     "start_time": "2024-09-21T15:15:49.524432",
     "status": "completed"
    },
    "tags": []
   },
   "outputs": [],
   "source": [
    "indices = indices[~indices.index.duplicated(keep='last')]"
   ]
  },
  {
   "cell_type": "code",
   "execution_count": 18,
   "id": "3b6e0b81",
   "metadata": {
    "execution": {
     "iopub.execute_input": "2024-09-21T15:15:49.578712Z",
     "iopub.status.busy": "2024-09-21T15:15:49.578259Z",
     "iopub.status.idle": "2024-09-21T15:15:49.592334Z",
     "shell.execute_reply": "2024-09-21T15:15:49.591143Z"
    },
    "papermill": {
     "duration": 0.028732,
     "end_time": "2024-09-21T15:15:49.594837",
     "exception": false,
     "start_time": "2024-09-21T15:15:49.566105",
     "status": "completed"
    },
    "tags": []
   },
   "outputs": [
    {
     "data": {
      "text/plain": [
       "45406"
      ]
     },
     "execution_count": 18,
     "metadata": {},
     "output_type": "execute_result"
    }
   ],
   "source": [
    "indices[\"Cinderella\"]"
   ]
  },
  {
   "cell_type": "code",
   "execution_count": 19,
   "id": "a4ee7024",
   "metadata": {
    "execution": {
     "iopub.execute_input": "2024-09-21T15:15:49.618780Z",
     "iopub.status.busy": "2024-09-21T15:15:49.617382Z",
     "iopub.status.idle": "2024-09-21T15:15:49.625763Z",
     "shell.execute_reply": "2024-09-21T15:15:49.624634Z"
    },
    "papermill": {
     "duration": 0.022862,
     "end_time": "2024-09-21T15:15:49.628204",
     "exception": false,
     "start_time": "2024-09-21T15:15:49.605342",
     "status": "completed"
    },
    "tags": []
   },
   "outputs": [
    {
     "data": {
      "text/plain": [
       "array([0.        , 0.00392837, 0.00476764, ..., 0.        , 0.0067919 ,\n",
       "       0.        ])"
      ]
     },
     "execution_count": 19,
     "metadata": {},
     "output_type": "execute_result"
    }
   ],
   "source": [
    "movie_index = indices[\"Sherlock Holmes\"]\n",
    "cosine_sim[movie_index]"
   ]
  },
  {
   "cell_type": "code",
   "execution_count": 20,
   "id": "67201881",
   "metadata": {
    "execution": {
     "iopub.execute_input": "2024-09-21T15:15:49.651830Z",
     "iopub.status.busy": "2024-09-21T15:15:49.651356Z",
     "iopub.status.idle": "2024-09-21T15:15:49.665964Z",
     "shell.execute_reply": "2024-09-21T15:15:49.664896Z"
    },
    "papermill": {
     "duration": 0.029672,
     "end_time": "2024-09-21T15:15:49.668656",
     "exception": false,
     "start_time": "2024-09-21T15:15:49.638984",
     "status": "completed"
    },
    "tags": []
   },
   "outputs": [],
   "source": [
    "similarity_scores = pd.DataFrame(cosine_sim[movie_index],\n",
    "                                 columns=[\"score\"])\n",
    "\n",
    "movie_indices = similarity_scores.sort_values(\"score\", ascending=False)[1:11].index"
   ]
  },
  {
   "cell_type": "code",
   "execution_count": 21,
   "id": "a6128329",
   "metadata": {
    "execution": {
     "iopub.execute_input": "2024-09-21T15:15:49.691120Z",
     "iopub.status.busy": "2024-09-21T15:15:49.690691Z",
     "iopub.status.idle": "2024-09-21T15:15:49.701119Z",
     "shell.execute_reply": "2024-09-21T15:15:49.700059Z"
    },
    "papermill": {
     "duration": 0.02463,
     "end_time": "2024-09-21T15:15:49.703631",
     "exception": false,
     "start_time": "2024-09-21T15:15:49.679001",
     "status": "completed"
    },
    "tags": []
   },
   "outputs": [
    {
     "data": {
      "text/plain": [
       "34737    Приключения Шерлока Холмса и доктора Ватсона: ...\n",
       "14821                                    The Royal Scandal\n",
       "34750    The Adventures of Sherlock Holmes and Doctor W...\n",
       "9743                           The Seven-Per-Cent Solution\n",
       "4434                                        Without a Clue\n",
       "29706                       How Sherlock Changed the World\n",
       "18258                   Sherlock Holmes: A Game of Shadows\n",
       "24665     The Sign of Four: Sherlock Holmes' Greatest Case\n",
       "6432                   The Private Life of Sherlock Holmes\n",
       "29154                          Sherlock Holmes in New York\n",
       "Name: title, dtype: object"
      ]
     },
     "execution_count": 21,
     "metadata": {},
     "output_type": "execute_result"
    }
   ],
   "source": [
    "df['title'].iloc[movie_indices]"
   ]
  },
  {
   "cell_type": "code",
   "execution_count": 22,
   "id": "2d886866",
   "metadata": {
    "execution": {
     "iopub.execute_input": "2024-09-21T15:15:49.726497Z",
     "iopub.status.busy": "2024-09-21T15:15:49.726067Z",
     "iopub.status.idle": "2024-09-21T15:15:49.732351Z",
     "shell.execute_reply": "2024-09-21T15:15:49.730634Z"
    },
    "papermill": {
     "duration": 0.020838,
     "end_time": "2024-09-21T15:15:49.734886",
     "exception": false,
     "start_time": "2024-09-21T15:15:49.714048",
     "status": "completed"
    },
    "tags": []
   },
   "outputs": [],
   "source": [
    "#Script\n",
    "\n",
    "#importing the libraries, adjusting the display settings\n",
    "# import pandas as pd\n",
    "# pd.set_option('display.max_columns', None)\n",
    "# pd.set_option('display.width', 500)\n",
    "# pd.set_option('display.expand_frame_repr', False)\n",
    "# from sklearn.feature_extraction.text import TfidfVectorizer\n",
    "# from sklearn.metrics.pairwise import cosine_similarity\n",
    "\n",
    "# #reading the dataset\n",
    "# df = pd.read_csv(\"/kaggle/input/the-movies-dataset/movies_metadata.csv\", low_memory=False)\n",
    "\n",
    "# #running tfidf vectorizer,filling uo NaNs of the variable 'overview', fitting and transforming tfidf matrix, calculating cosine similarity \n",
    "# def calculate_cosine_sim(dataframe):\n",
    "#     tfidf = TfidfVectorizer(stop_words='english')\n",
    "#     dataframe['overview'] = dataframe['overview'].fillna('')\n",
    "#     tfidf_matrix = tfidf.fit_transform(dataframe['overview'])\n",
    "#     cosine_sim = cosine_similarity(tfidf_matrix, tfidf_matrix)\n",
    "#     return cosine_sim\n",
    "\n",
    "# cosine_sim = calculate_cosine_sim(df)"
   ]
  },
  {
   "cell_type": "code",
   "execution_count": 23,
   "id": "9bfc1b9a",
   "metadata": {
    "execution": {
     "iopub.execute_input": "2024-09-21T15:15:49.757941Z",
     "iopub.status.busy": "2024-09-21T15:15:49.757479Z",
     "iopub.status.idle": "2024-09-21T15:15:49.763252Z",
     "shell.execute_reply": "2024-09-21T15:15:49.762050Z"
    },
    "papermill": {
     "duration": 0.020497,
     "end_time": "2024-09-21T15:15:49.765827",
     "exception": false,
     "start_time": "2024-09-21T15:15:49.745330",
     "status": "completed"
    },
    "tags": []
   },
   "outputs": [],
   "source": [
    "# def content_based_recommender(title, cosine_sim, dataframe):\n",
    "#     # creating indices \n",
    "#     indices = pd.Series(dataframe.index, index=dataframe['title'])\n",
    "#     indices = indices[~indices.index.duplicated(keep='last')]\n",
    "#     # locating the index of title\n",
    "#     movie_index = indices[title]\n",
    "#     # computing similarity scores based on the title \n",
    "#     similarity_scores = pd.DataFrame(cosine_sim[movie_index], columns=[\"score\"])\n",
    "#     # sorting the first 10 movies (apart from the movie in question)\n",
    "#     movie_indices = similarity_scores.sort_values(\"score\", ascending=False)[1:11].index\n",
    "#     return dataframe['title'].iloc[movie_indices]\n",
    "\n",
    "\n",
    "# content_based_recommender('The Dark Knight Rises', cosine_sim, df)"
   ]
  }
 ],
 "metadata": {
  "kaggle": {
   "accelerator": "none",
   "dataSources": [
    {
     "datasetId": 3405,
     "sourceId": 6663,
     "sourceType": "datasetVersion"
    }
   ],
   "dockerImageVersionId": 30761,
   "isGpuEnabled": false,
   "isInternetEnabled": true,
   "language": "python",
   "sourceType": "notebook"
  },
  "kernelspec": {
   "display_name": "Python 3",
   "language": "python",
   "name": "python3"
  },
  "language_info": {
   "codemirror_mode": {
    "name": "ipython",
    "version": 3
   },
   "file_extension": ".py",
   "mimetype": "text/x-python",
   "name": "python",
   "nbconvert_exporter": "python",
   "pygments_lexer": "ipython3",
   "version": "3.10.14"
  },
  "papermill": {
   "default_parameters": {},
   "duration": 64.274434,
   "end_time": "2024-09-21T15:15:51.905652",
   "environment_variables": {},
   "exception": null,
   "input_path": "__notebook__.ipynb",
   "output_path": "__notebook__.ipynb",
   "parameters": {},
   "start_time": "2024-09-21T15:14:47.631218",
   "version": "2.6.0"
  }
 },
 "nbformat": 4,
 "nbformat_minor": 5
}
