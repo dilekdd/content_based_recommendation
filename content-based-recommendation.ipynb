{
 "cells": [
  {
   "cell_type": "code",
   "execution_count": 1,
   "id": "f5293198",
   "metadata": {
    "execution": {
     "iopub.execute_input": "2024-09-20T11:53:30.221386Z",
     "iopub.status.busy": "2024-09-20T11:53:30.220409Z",
     "iopub.status.idle": "2024-09-20T11:53:32.072457Z",
     "shell.execute_reply": "2024-09-20T11:53:32.070932Z"
    },
    "papermill": {
     "duration": 1.864532,
     "end_time": "2024-09-20T11:53:32.075490",
     "exception": false,
     "start_time": "2024-09-20T11:53:30.210958",
     "status": "completed"
    },
    "tags": []
   },
   "outputs": [],
   "source": [
    "import pandas as pd\n",
    "pd.set_option('display.max_columns', None)\n",
    "pd.set_option('display.width', 500)\n",
    "pd.set_option('display.expand_frame_repr', False)\n",
    "from sklearn.feature_extraction.text import TfidfVectorizer\n",
    "from sklearn.metrics.pairwise import cosine_similarity"
   ]
  },
  {
   "cell_type": "code",
   "execution_count": 2,
   "id": "b2af2923",
   "metadata": {
    "execution": {
     "iopub.execute_input": "2024-09-20T11:53:32.091435Z",
     "iopub.status.busy": "2024-09-20T11:53:32.090166Z",
     "iopub.status.idle": "2024-09-20T11:53:33.442554Z",
     "shell.execute_reply": "2024-09-20T11:53:33.441139Z"
    },
    "papermill": {
     "duration": 1.363334,
     "end_time": "2024-09-20T11:53:33.445561",
     "exception": false,
     "start_time": "2024-09-20T11:53:32.082227",
     "status": "completed"
    },
    "tags": []
   },
   "outputs": [],
   "source": [
    "df = pd.read_csv(\"/kaggle/input/the-movies-dataset/movies_metadata.csv\", low_memory=False)"
   ]
  },
  {
   "cell_type": "code",
   "execution_count": 3,
   "id": "e750789e",
   "metadata": {
    "execution": {
     "iopub.execute_input": "2024-09-20T11:53:33.461508Z",
     "iopub.status.busy": "2024-09-20T11:53:33.460977Z",
     "iopub.status.idle": "2024-09-20T11:53:33.504557Z",
     "shell.execute_reply": "2024-09-20T11:53:33.503059Z"
    },
    "papermill": {
     "duration": 0.055283,
     "end_time": "2024-09-20T11:53:33.507585",
     "exception": false,
     "start_time": "2024-09-20T11:53:33.452302",
     "status": "completed"
    },
    "tags": []
   },
   "outputs": [
    {
     "data": {
      "text/html": [
       "<div>\n",
       "<style scoped>\n",
       "    .dataframe tbody tr th:only-of-type {\n",
       "        vertical-align: middle;\n",
       "    }\n",
       "\n",
       "    .dataframe tbody tr th {\n",
       "        vertical-align: top;\n",
       "    }\n",
       "\n",
       "    .dataframe thead th {\n",
       "        text-align: right;\n",
       "    }\n",
       "</style>\n",
       "<table border=\"1\" class=\"dataframe\">\n",
       "  <thead>\n",
       "    <tr style=\"text-align: right;\">\n",
       "      <th></th>\n",
       "      <th>adult</th>\n",
       "      <th>belongs_to_collection</th>\n",
       "      <th>budget</th>\n",
       "      <th>genres</th>\n",
       "      <th>homepage</th>\n",
       "      <th>id</th>\n",
       "      <th>imdb_id</th>\n",
       "      <th>original_language</th>\n",
       "      <th>original_title</th>\n",
       "      <th>overview</th>\n",
       "      <th>popularity</th>\n",
       "      <th>poster_path</th>\n",
       "      <th>production_companies</th>\n",
       "      <th>production_countries</th>\n",
       "      <th>release_date</th>\n",
       "      <th>revenue</th>\n",
       "      <th>runtime</th>\n",
       "      <th>spoken_languages</th>\n",
       "      <th>status</th>\n",
       "      <th>tagline</th>\n",
       "      <th>title</th>\n",
       "      <th>video</th>\n",
       "      <th>vote_average</th>\n",
       "      <th>vote_count</th>\n",
       "    </tr>\n",
       "  </thead>\n",
       "  <tbody>\n",
       "    <tr>\n",
       "      <th>0</th>\n",
       "      <td>False</td>\n",
       "      <td>{'id': 10194, 'name': 'Toy Story Collection', ...</td>\n",
       "      <td>30000000</td>\n",
       "      <td>[{'id': 16, 'name': 'Animation'}, {'id': 35, '...</td>\n",
       "      <td>http://toystory.disney.com/toy-story</td>\n",
       "      <td>862</td>\n",
       "      <td>tt0114709</td>\n",
       "      <td>en</td>\n",
       "      <td>Toy Story</td>\n",
       "      <td>Led by Woody, Andy's toys live happily in his ...</td>\n",
       "      <td>21.946943</td>\n",
       "      <td>/rhIRbceoE9lR4veEXuwCC2wARtG.jpg</td>\n",
       "      <td>[{'name': 'Pixar Animation Studios', 'id': 3}]</td>\n",
       "      <td>[{'iso_3166_1': 'US', 'name': 'United States o...</td>\n",
       "      <td>1995-10-30</td>\n",
       "      <td>373554033.0</td>\n",
       "      <td>81.0</td>\n",
       "      <td>[{'iso_639_1': 'en', 'name': 'English'}]</td>\n",
       "      <td>Released</td>\n",
       "      <td>NaN</td>\n",
       "      <td>Toy Story</td>\n",
       "      <td>False</td>\n",
       "      <td>7.7</td>\n",
       "      <td>5415.0</td>\n",
       "    </tr>\n",
       "    <tr>\n",
       "      <th>1</th>\n",
       "      <td>False</td>\n",
       "      <td>NaN</td>\n",
       "      <td>65000000</td>\n",
       "      <td>[{'id': 12, 'name': 'Adventure'}, {'id': 14, '...</td>\n",
       "      <td>NaN</td>\n",
       "      <td>8844</td>\n",
       "      <td>tt0113497</td>\n",
       "      <td>en</td>\n",
       "      <td>Jumanji</td>\n",
       "      <td>When siblings Judy and Peter discover an encha...</td>\n",
       "      <td>17.015539</td>\n",
       "      <td>/vzmL6fP7aPKNKPRTFnZmiUfciyV.jpg</td>\n",
       "      <td>[{'name': 'TriStar Pictures', 'id': 559}, {'na...</td>\n",
       "      <td>[{'iso_3166_1': 'US', 'name': 'United States o...</td>\n",
       "      <td>1995-12-15</td>\n",
       "      <td>262797249.0</td>\n",
       "      <td>104.0</td>\n",
       "      <td>[{'iso_639_1': 'en', 'name': 'English'}, {'iso...</td>\n",
       "      <td>Released</td>\n",
       "      <td>Roll the dice and unleash the excitement!</td>\n",
       "      <td>Jumanji</td>\n",
       "      <td>False</td>\n",
       "      <td>6.9</td>\n",
       "      <td>2413.0</td>\n",
       "    </tr>\n",
       "    <tr>\n",
       "      <th>2</th>\n",
       "      <td>False</td>\n",
       "      <td>{'id': 119050, 'name': 'Grumpy Old Men Collect...</td>\n",
       "      <td>0</td>\n",
       "      <td>[{'id': 10749, 'name': 'Romance'}, {'id': 35, ...</td>\n",
       "      <td>NaN</td>\n",
       "      <td>15602</td>\n",
       "      <td>tt0113228</td>\n",
       "      <td>en</td>\n",
       "      <td>Grumpier Old Men</td>\n",
       "      <td>A family wedding reignites the ancient feud be...</td>\n",
       "      <td>11.7129</td>\n",
       "      <td>/6ksm1sjKMFLbO7UY2i6G1ju9SML.jpg</td>\n",
       "      <td>[{'name': 'Warner Bros.', 'id': 6194}, {'name'...</td>\n",
       "      <td>[{'iso_3166_1': 'US', 'name': 'United States o...</td>\n",
       "      <td>1995-12-22</td>\n",
       "      <td>0.0</td>\n",
       "      <td>101.0</td>\n",
       "      <td>[{'iso_639_1': 'en', 'name': 'English'}]</td>\n",
       "      <td>Released</td>\n",
       "      <td>Still Yelling. Still Fighting. Still Ready for...</td>\n",
       "      <td>Grumpier Old Men</td>\n",
       "      <td>False</td>\n",
       "      <td>6.5</td>\n",
       "      <td>92.0</td>\n",
       "    </tr>\n",
       "    <tr>\n",
       "      <th>3</th>\n",
       "      <td>False</td>\n",
       "      <td>NaN</td>\n",
       "      <td>16000000</td>\n",
       "      <td>[{'id': 35, 'name': 'Comedy'}, {'id': 18, 'nam...</td>\n",
       "      <td>NaN</td>\n",
       "      <td>31357</td>\n",
       "      <td>tt0114885</td>\n",
       "      <td>en</td>\n",
       "      <td>Waiting to Exhale</td>\n",
       "      <td>Cheated on, mistreated and stepped on, the wom...</td>\n",
       "      <td>3.859495</td>\n",
       "      <td>/16XOMpEaLWkrcPqSQqhTmeJuqQl.jpg</td>\n",
       "      <td>[{'name': 'Twentieth Century Fox Film Corporat...</td>\n",
       "      <td>[{'iso_3166_1': 'US', 'name': 'United States o...</td>\n",
       "      <td>1995-12-22</td>\n",
       "      <td>81452156.0</td>\n",
       "      <td>127.0</td>\n",
       "      <td>[{'iso_639_1': 'en', 'name': 'English'}]</td>\n",
       "      <td>Released</td>\n",
       "      <td>Friends are the people who let you be yourself...</td>\n",
       "      <td>Waiting to Exhale</td>\n",
       "      <td>False</td>\n",
       "      <td>6.1</td>\n",
       "      <td>34.0</td>\n",
       "    </tr>\n",
       "    <tr>\n",
       "      <th>4</th>\n",
       "      <td>False</td>\n",
       "      <td>{'id': 96871, 'name': 'Father of the Bride Col...</td>\n",
       "      <td>0</td>\n",
       "      <td>[{'id': 35, 'name': 'Comedy'}]</td>\n",
       "      <td>NaN</td>\n",
       "      <td>11862</td>\n",
       "      <td>tt0113041</td>\n",
       "      <td>en</td>\n",
       "      <td>Father of the Bride Part II</td>\n",
       "      <td>Just when George Banks has recovered from his ...</td>\n",
       "      <td>8.387519</td>\n",
       "      <td>/e64sOI48hQXyru7naBFyssKFxVd.jpg</td>\n",
       "      <td>[{'name': 'Sandollar Productions', 'id': 5842}...</td>\n",
       "      <td>[{'iso_3166_1': 'US', 'name': 'United States o...</td>\n",
       "      <td>1995-02-10</td>\n",
       "      <td>76578911.0</td>\n",
       "      <td>106.0</td>\n",
       "      <td>[{'iso_639_1': 'en', 'name': 'English'}]</td>\n",
       "      <td>Released</td>\n",
       "      <td>Just When His World Is Back To Normal... He's ...</td>\n",
       "      <td>Father of the Bride Part II</td>\n",
       "      <td>False</td>\n",
       "      <td>5.7</td>\n",
       "      <td>173.0</td>\n",
       "    </tr>\n",
       "  </tbody>\n",
       "</table>\n",
       "</div>"
      ],
      "text/plain": [
       "   adult                              belongs_to_collection    budget                                             genres                              homepage     id    imdb_id original_language               original_title                                           overview popularity                       poster_path                               production_companies                               production_countries release_date      revenue  runtime                                   spoken_languages    status                                            tagline                        title  video  vote_average  vote_count\n",
       "0  False  {'id': 10194, 'name': 'Toy Story Collection', ...  30000000  [{'id': 16, 'name': 'Animation'}, {'id': 35, '...  http://toystory.disney.com/toy-story    862  tt0114709                en                    Toy Story  Led by Woody, Andy's toys live happily in his ...  21.946943  /rhIRbceoE9lR4veEXuwCC2wARtG.jpg     [{'name': 'Pixar Animation Studios', 'id': 3}]  [{'iso_3166_1': 'US', 'name': 'United States o...   1995-10-30  373554033.0     81.0           [{'iso_639_1': 'en', 'name': 'English'}]  Released                                                NaN                    Toy Story  False           7.7      5415.0\n",
       "1  False                                                NaN  65000000  [{'id': 12, 'name': 'Adventure'}, {'id': 14, '...                                   NaN   8844  tt0113497                en                      Jumanji  When siblings Judy and Peter discover an encha...  17.015539  /vzmL6fP7aPKNKPRTFnZmiUfciyV.jpg  [{'name': 'TriStar Pictures', 'id': 559}, {'na...  [{'iso_3166_1': 'US', 'name': 'United States o...   1995-12-15  262797249.0    104.0  [{'iso_639_1': 'en', 'name': 'English'}, {'iso...  Released          Roll the dice and unleash the excitement!                      Jumanji  False           6.9      2413.0\n",
       "2  False  {'id': 119050, 'name': 'Grumpy Old Men Collect...         0  [{'id': 10749, 'name': 'Romance'}, {'id': 35, ...                                   NaN  15602  tt0113228                en             Grumpier Old Men  A family wedding reignites the ancient feud be...    11.7129  /6ksm1sjKMFLbO7UY2i6G1ju9SML.jpg  [{'name': 'Warner Bros.', 'id': 6194}, {'name'...  [{'iso_3166_1': 'US', 'name': 'United States o...   1995-12-22          0.0    101.0           [{'iso_639_1': 'en', 'name': 'English'}]  Released  Still Yelling. Still Fighting. Still Ready for...             Grumpier Old Men  False           6.5        92.0\n",
       "3  False                                                NaN  16000000  [{'id': 35, 'name': 'Comedy'}, {'id': 18, 'nam...                                   NaN  31357  tt0114885                en            Waiting to Exhale  Cheated on, mistreated and stepped on, the wom...   3.859495  /16XOMpEaLWkrcPqSQqhTmeJuqQl.jpg  [{'name': 'Twentieth Century Fox Film Corporat...  [{'iso_3166_1': 'US', 'name': 'United States o...   1995-12-22   81452156.0    127.0           [{'iso_639_1': 'en', 'name': 'English'}]  Released  Friends are the people who let you be yourself...            Waiting to Exhale  False           6.1        34.0\n",
       "4  False  {'id': 96871, 'name': 'Father of the Bride Col...         0                     [{'id': 35, 'name': 'Comedy'}]                                   NaN  11862  tt0113041                en  Father of the Bride Part II  Just when George Banks has recovered from his ...   8.387519  /e64sOI48hQXyru7naBFyssKFxVd.jpg  [{'name': 'Sandollar Productions', 'id': 5842}...  [{'iso_3166_1': 'US', 'name': 'United States o...   1995-02-10   76578911.0    106.0           [{'iso_639_1': 'en', 'name': 'English'}]  Released  Just When His World Is Back To Normal... He's ...  Father of the Bride Part II  False           5.7       173.0"
      ]
     },
     "execution_count": 3,
     "metadata": {},
     "output_type": "execute_result"
    }
   ],
   "source": [
    "df.head()"
   ]
  },
  {
   "cell_type": "code",
   "execution_count": 4,
   "id": "3bb4acdf",
   "metadata": {
    "execution": {
     "iopub.execute_input": "2024-09-20T11:53:33.523979Z",
     "iopub.status.busy": "2024-09-20T11:53:33.523550Z",
     "iopub.status.idle": "2024-09-20T11:53:33.531218Z",
     "shell.execute_reply": "2024-09-20T11:53:33.530138Z"
    },
    "papermill": {
     "duration": 0.018863,
     "end_time": "2024-09-20T11:53:33.533679",
     "exception": false,
     "start_time": "2024-09-20T11:53:33.514816",
     "status": "completed"
    },
    "tags": []
   },
   "outputs": [
    {
     "data": {
      "text/plain": [
       "(45466, 24)"
      ]
     },
     "execution_count": 4,
     "metadata": {},
     "output_type": "execute_result"
    }
   ],
   "source": [
    "df.shape"
   ]
  },
  {
   "cell_type": "code",
   "execution_count": 5,
   "id": "33002c74",
   "metadata": {
    "execution": {
     "iopub.execute_input": "2024-09-20T11:53:33.551061Z",
     "iopub.status.busy": "2024-09-20T11:53:33.550451Z",
     "iopub.status.idle": "2024-09-20T11:53:33.567355Z",
     "shell.execute_reply": "2024-09-20T11:53:33.566150Z"
    },
    "papermill": {
     "duration": 0.028508,
     "end_time": "2024-09-20T11:53:33.569950",
     "exception": false,
     "start_time": "2024-09-20T11:53:33.541442",
     "status": "completed"
    },
    "tags": []
   },
   "outputs": [
    {
     "data": {
      "text/plain": [
       "954"
      ]
     },
     "execution_count": 5,
     "metadata": {},
     "output_type": "execute_result"
    }
   ],
   "source": [
    "df['overview'].isnull().sum()"
   ]
  },
  {
   "cell_type": "code",
   "execution_count": 6,
   "id": "12657734",
   "metadata": {
    "execution": {
     "iopub.execute_input": "2024-09-20T11:53:33.588651Z",
     "iopub.status.busy": "2024-09-20T11:53:33.587448Z",
     "iopub.status.idle": "2024-09-20T11:53:33.596889Z",
     "shell.execute_reply": "2024-09-20T11:53:33.595597Z"
    },
    "papermill": {
     "duration": 0.021191,
     "end_time": "2024-09-20T11:53:33.599506",
     "exception": false,
     "start_time": "2024-09-20T11:53:33.578315",
     "status": "completed"
    },
    "tags": []
   },
   "outputs": [
    {
     "data": {
      "text/plain": [
       "0    Led by Woody, Andy's toys live happily in his ...\n",
       "1    When siblings Judy and Peter discover an encha...\n",
       "2    A family wedding reignites the ancient feud be...\n",
       "3    Cheated on, mistreated and stepped on, the wom...\n",
       "4    Just when George Banks has recovered from his ...\n",
       "Name: overview, dtype: object"
      ]
     },
     "execution_count": 6,
     "metadata": {},
     "output_type": "execute_result"
    }
   ],
   "source": [
    "df[\"overview\"].head()"
   ]
  },
  {
   "cell_type": "code",
   "execution_count": 7,
   "id": "4f90c0fc",
   "metadata": {
    "execution": {
     "iopub.execute_input": "2024-09-20T11:53:33.618453Z",
     "iopub.status.busy": "2024-09-20T11:53:33.617820Z",
     "iopub.status.idle": "2024-09-20T11:53:33.623515Z",
     "shell.execute_reply": "2024-09-20T11:53:33.622347Z"
    },
    "papermill": {
     "duration": 0.018384,
     "end_time": "2024-09-20T11:53:33.626120",
     "exception": false,
     "start_time": "2024-09-20T11:53:33.607736",
     "status": "completed"
    },
    "tags": []
   },
   "outputs": [],
   "source": [
    "tfidf = TfidfVectorizer(stop_words=\"english\")"
   ]
  },
  {
   "cell_type": "code",
   "execution_count": 8,
   "id": "bcd3cfc6",
   "metadata": {
    "execution": {
     "iopub.execute_input": "2024-09-20T11:53:33.643860Z",
     "iopub.status.busy": "2024-09-20T11:53:33.643398Z",
     "iopub.status.idle": "2024-09-20T11:53:33.661566Z",
     "shell.execute_reply": "2024-09-20T11:53:33.660347Z"
    },
    "papermill": {
     "duration": 0.030423,
     "end_time": "2024-09-20T11:53:33.664520",
     "exception": false,
     "start_time": "2024-09-20T11:53:33.634097",
     "status": "completed"
    },
    "tags": []
   },
   "outputs": [],
   "source": [
    "df['overview'] = df['overview'].fillna('')"
   ]
  },
  {
   "cell_type": "code",
   "execution_count": 9,
   "id": "903dc57c",
   "metadata": {
    "execution": {
     "iopub.execute_input": "2024-09-20T11:53:33.682598Z",
     "iopub.status.busy": "2024-09-20T11:53:33.682133Z",
     "iopub.status.idle": "2024-09-20T11:53:37.296842Z",
     "shell.execute_reply": "2024-09-20T11:53:37.295565Z"
    },
    "papermill": {
     "duration": 3.62738,
     "end_time": "2024-09-20T11:53:37.299984",
     "exception": false,
     "start_time": "2024-09-20T11:53:33.672604",
     "status": "completed"
    },
    "tags": []
   },
   "outputs": [],
   "source": [
    "tfidf_matrix = tfidf.fit_transform(df['overview'])"
   ]
  },
  {
   "cell_type": "code",
   "execution_count": 10,
   "id": "41bcfa6c",
   "metadata": {
    "execution": {
     "iopub.execute_input": "2024-09-20T11:53:37.318057Z",
     "iopub.status.busy": "2024-09-20T11:53:37.317630Z",
     "iopub.status.idle": "2024-09-20T11:53:37.325092Z",
     "shell.execute_reply": "2024-09-20T11:53:37.323821Z"
    },
    "papermill": {
     "duration": 0.019286,
     "end_time": "2024-09-20T11:53:37.327492",
     "exception": false,
     "start_time": "2024-09-20T11:53:37.308206",
     "status": "completed"
    },
    "tags": []
   },
   "outputs": [
    {
     "data": {
      "text/plain": [
       "(45466, 75827)"
      ]
     },
     "execution_count": 10,
     "metadata": {},
     "output_type": "execute_result"
    }
   ],
   "source": [
    "tfidf_matrix.shape"
   ]
  },
  {
   "cell_type": "code",
   "execution_count": 11,
   "id": "3f441dc5",
   "metadata": {
    "execution": {
     "iopub.execute_input": "2024-09-20T11:53:37.345767Z",
     "iopub.status.busy": "2024-09-20T11:53:37.345318Z",
     "iopub.status.idle": "2024-09-20T11:53:37.352911Z",
     "shell.execute_reply": "2024-09-20T11:53:37.351638Z"
    },
    "papermill": {
     "duration": 0.019794,
     "end_time": "2024-09-20T11:53:37.355465",
     "exception": false,
     "start_time": "2024-09-20T11:53:37.335671",
     "status": "completed"
    },
    "tags": []
   },
   "outputs": [
    {
     "data": {
      "text/plain": [
       "(45466,)"
      ]
     },
     "execution_count": 11,
     "metadata": {},
     "output_type": "execute_result"
    }
   ],
   "source": [
    "df['title'].shape"
   ]
  },
  {
   "cell_type": "code",
   "execution_count": 12,
   "id": "560f4a87",
   "metadata": {
    "execution": {
     "iopub.execute_input": "2024-09-20T11:53:37.375093Z",
     "iopub.status.busy": "2024-09-20T11:53:37.373881Z",
     "iopub.status.idle": "2024-09-20T11:53:37.464246Z",
     "shell.execute_reply": "2024-09-20T11:53:37.463062Z"
    },
    "papermill": {
     "duration": 0.103198,
     "end_time": "2024-09-20T11:53:37.467266",
     "exception": false,
     "start_time": "2024-09-20T11:53:37.364068",
     "status": "completed"
    },
    "tags": []
   },
   "outputs": [
    {
     "data": {
      "text/plain": [
       "array(['00', '000', '000km', ..., '첫사랑', 'ﬁrst', 'ﬁve'], dtype=object)"
      ]
     },
     "execution_count": 12,
     "metadata": {},
     "output_type": "execute_result"
    }
   ],
   "source": [
    "tfidf.get_feature_names_out()"
   ]
  },
  {
   "cell_type": "code",
   "execution_count": 13,
   "id": "74acb5dd",
   "metadata": {
    "execution": {
     "iopub.execute_input": "2024-09-20T11:53:37.486729Z",
     "iopub.status.busy": "2024-09-20T11:53:37.486266Z",
     "iopub.status.idle": "2024-09-20T11:53:44.010781Z",
     "shell.execute_reply": "2024-09-20T11:53:44.009493Z"
    },
    "papermill": {
     "duration": 6.537428,
     "end_time": "2024-09-20T11:53:44.013578",
     "exception": false,
     "start_time": "2024-09-20T11:53:37.476150",
     "status": "completed"
    },
    "tags": []
   },
   "outputs": [
    {
     "data": {
      "text/plain": [
       "array([[0., 0., 0., ..., 0., 0., 0.],\n",
       "       [0., 0., 0., ..., 0., 0., 0.],\n",
       "       [0., 0., 0., ..., 0., 0., 0.],\n",
       "       ...,\n",
       "       [0., 0., 0., ..., 0., 0., 0.],\n",
       "       [0., 0., 0., ..., 0., 0., 0.],\n",
       "       [0., 0., 0., ..., 0., 0., 0.]])"
      ]
     },
     "execution_count": 13,
     "metadata": {},
     "output_type": "execute_result"
    }
   ],
   "source": [
    "tfidf_matrix.toarray()"
   ]
  },
  {
   "cell_type": "code",
   "execution_count": 14,
   "id": "4a0bdb53",
   "metadata": {
    "execution": {
     "iopub.execute_input": "2024-09-20T11:53:44.033406Z",
     "iopub.status.busy": "2024-09-20T11:53:44.032912Z",
     "iopub.status.idle": "2024-09-20T11:54:27.283347Z",
     "shell.execute_reply": "2024-09-20T11:54:27.281997Z"
    },
    "papermill": {
     "duration": 43.27206,
     "end_time": "2024-09-20T11:54:27.294681",
     "exception": false,
     "start_time": "2024-09-20T11:53:44.022621",
     "status": "completed"
    },
    "tags": []
   },
   "outputs": [
    {
     "data": {
      "text/plain": [
       "(45466, 45466)"
      ]
     },
     "execution_count": 14,
     "metadata": {},
     "output_type": "execute_result"
    }
   ],
   "source": [
    "cosine_sim = cosine_similarity(tfidf_matrix,\n",
    "                               tfidf_matrix)\n",
    "\n",
    "cosine_sim.shape"
   ]
  },
  {
   "cell_type": "code",
   "execution_count": 15,
   "id": "1c47b03b",
   "metadata": {
    "execution": {
     "iopub.execute_input": "2024-09-20T11:54:27.315866Z",
     "iopub.status.busy": "2024-09-20T11:54:27.314942Z",
     "iopub.status.idle": "2024-09-20T11:54:27.322736Z",
     "shell.execute_reply": "2024-09-20T11:54:27.321685Z"
    },
    "papermill": {
     "duration": 0.021582,
     "end_time": "2024-09-20T11:54:27.325767",
     "exception": false,
     "start_time": "2024-09-20T11:54:27.304185",
     "status": "completed"
    },
    "tags": []
   },
   "outputs": [
    {
     "data": {
      "text/plain": [
       "array([0.01504121, 1.        , 0.04681953, ..., 0.        , 0.02198641,\n",
       "       0.00929411])"
      ]
     },
     "execution_count": 15,
     "metadata": {},
     "output_type": "execute_result"
    }
   ],
   "source": [
    "cosine_sim[1]"
   ]
  },
  {
   "cell_type": "code",
   "execution_count": 16,
   "id": "f9819c43",
   "metadata": {
    "execution": {
     "iopub.execute_input": "2024-09-20T11:54:27.351365Z",
     "iopub.status.busy": "2024-09-20T11:54:27.350778Z",
     "iopub.status.idle": "2024-09-20T11:54:27.403485Z",
     "shell.execute_reply": "2024-09-20T11:54:27.402197Z"
    },
    "papermill": {
     "duration": 0.067092,
     "end_time": "2024-09-20T11:54:27.406295",
     "exception": false,
     "start_time": "2024-09-20T11:54:27.339203",
     "status": "completed"
    },
    "tags": []
   },
   "outputs": [
    {
     "data": {
      "text/plain": [
       "title\n",
       "Cinderella              11\n",
       "Hamlet                   9\n",
       "Alice in Wonderland      9\n",
       "Beauty and the Beast     8\n",
       "Les Misérables           8\n",
       "                        ..\n",
       "Cluny Brown              1\n",
       "Babies                   1\n",
       "The Green Room           1\n",
       "Captain Conan            1\n",
       "Queerama                 1\n",
       "Name: count, Length: 42277, dtype: int64"
      ]
     },
     "execution_count": 16,
     "metadata": {},
     "output_type": "execute_result"
    }
   ],
   "source": [
    "indices = pd.Series(df.index, index=df['title'])\n",
    "indices.index.value_counts()"
   ]
  },
  {
   "cell_type": "code",
   "execution_count": 17,
   "id": "2cd28af0",
   "metadata": {
    "execution": {
     "iopub.execute_input": "2024-09-20T11:54:27.428175Z",
     "iopub.status.busy": "2024-09-20T11:54:27.427607Z",
     "iopub.status.idle": "2024-09-20T11:54:27.454230Z",
     "shell.execute_reply": "2024-09-20T11:54:27.452737Z"
    },
    "papermill": {
     "duration": 0.040735,
     "end_time": "2024-09-20T11:54:27.456804",
     "exception": false,
     "start_time": "2024-09-20T11:54:27.416069",
     "status": "completed"
    },
    "tags": []
   },
   "outputs": [],
   "source": [
    "indices = indices[~indices.index.duplicated(keep='last')]"
   ]
  },
  {
   "cell_type": "code",
   "execution_count": 18,
   "id": "56dd455a",
   "metadata": {
    "execution": {
     "iopub.execute_input": "2024-09-20T11:54:27.477928Z",
     "iopub.status.busy": "2024-09-20T11:54:27.477476Z",
     "iopub.status.idle": "2024-09-20T11:54:27.491794Z",
     "shell.execute_reply": "2024-09-20T11:54:27.490593Z"
    },
    "papermill": {
     "duration": 0.028154,
     "end_time": "2024-09-20T11:54:27.494657",
     "exception": false,
     "start_time": "2024-09-20T11:54:27.466503",
     "status": "completed"
    },
    "tags": []
   },
   "outputs": [
    {
     "data": {
      "text/plain": [
       "45406"
      ]
     },
     "execution_count": 18,
     "metadata": {},
     "output_type": "execute_result"
    }
   ],
   "source": [
    "indices[\"Cinderella\"]"
   ]
  },
  {
   "cell_type": "code",
   "execution_count": 19,
   "id": "b45d2db6",
   "metadata": {
    "execution": {
     "iopub.execute_input": "2024-09-20T11:54:27.518130Z",
     "iopub.status.busy": "2024-09-20T11:54:27.516840Z",
     "iopub.status.idle": "2024-09-20T11:54:27.525261Z",
     "shell.execute_reply": "2024-09-20T11:54:27.524195Z"
    },
    "papermill": {
     "duration": 0.022685,
     "end_time": "2024-09-20T11:54:27.527849",
     "exception": false,
     "start_time": "2024-09-20T11:54:27.505164",
     "status": "completed"
    },
    "tags": []
   },
   "outputs": [
    {
     "data": {
      "text/plain": [
       "array([0.        , 0.00392837, 0.00476764, ..., 0.        , 0.0067919 ,\n",
       "       0.        ])"
      ]
     },
     "execution_count": 19,
     "metadata": {},
     "output_type": "execute_result"
    }
   ],
   "source": [
    "movie_index = indices[\"Sherlock Holmes\"]\n",
    "cosine_sim[movie_index]"
   ]
  },
  {
   "cell_type": "code",
   "execution_count": 20,
   "id": "2f9c81e3",
   "metadata": {
    "execution": {
     "iopub.execute_input": "2024-09-20T11:54:27.550097Z",
     "iopub.status.busy": "2024-09-20T11:54:27.549637Z",
     "iopub.status.idle": "2024-09-20T11:54:27.564144Z",
     "shell.execute_reply": "2024-09-20T11:54:27.563113Z"
    },
    "papermill": {
     "duration": 0.028818,
     "end_time": "2024-09-20T11:54:27.566902",
     "exception": false,
     "start_time": "2024-09-20T11:54:27.538084",
     "status": "completed"
    },
    "tags": []
   },
   "outputs": [],
   "source": [
    "similarity_scores = pd.DataFrame(cosine_sim[movie_index],\n",
    "                                 columns=[\"score\"])\n",
    "\n",
    "movie_indices = similarity_scores.sort_values(\"score\", ascending=False)[1:11].index"
   ]
  },
  {
   "cell_type": "code",
   "execution_count": 21,
   "id": "1f561f47",
   "metadata": {
    "execution": {
     "iopub.execute_input": "2024-09-20T11:54:27.590852Z",
     "iopub.status.busy": "2024-09-20T11:54:27.590410Z",
     "iopub.status.idle": "2024-09-20T11:54:27.600896Z",
     "shell.execute_reply": "2024-09-20T11:54:27.599788Z"
    },
    "papermill": {
     "duration": 0.025089,
     "end_time": "2024-09-20T11:54:27.603462",
     "exception": false,
     "start_time": "2024-09-20T11:54:27.578373",
     "status": "completed"
    },
    "tags": []
   },
   "outputs": [
    {
     "data": {
      "text/plain": [
       "34737    Приключения Шерлока Холмса и доктора Ватсона: ...\n",
       "14821                                    The Royal Scandal\n",
       "34750    The Adventures of Sherlock Holmes and Doctor W...\n",
       "9743                           The Seven-Per-Cent Solution\n",
       "4434                                        Without a Clue\n",
       "29706                       How Sherlock Changed the World\n",
       "18258                   Sherlock Holmes: A Game of Shadows\n",
       "24665     The Sign of Four: Sherlock Holmes' Greatest Case\n",
       "6432                   The Private Life of Sherlock Holmes\n",
       "29154                          Sherlock Holmes in New York\n",
       "Name: title, dtype: object"
      ]
     },
     "execution_count": 21,
     "metadata": {},
     "output_type": "execute_result"
    }
   ],
   "source": [
    "df['title'].iloc[movie_indices]"
   ]
  },
  {
   "cell_type": "code",
   "execution_count": 22,
   "id": "7878f022",
   "metadata": {
    "execution": {
     "iopub.execute_input": "2024-09-20T11:54:27.626886Z",
     "iopub.status.busy": "2024-09-20T11:54:27.626448Z",
     "iopub.status.idle": "2024-09-20T11:54:27.638228Z",
     "shell.execute_reply": "2024-09-20T11:54:27.636694Z"
    },
    "papermill": {
     "duration": 0.02683,
     "end_time": "2024-09-20T11:54:27.640957",
     "exception": false,
     "start_time": "2024-09-20T11:54:27.614127",
     "status": "completed"
    },
    "tags": []
   },
   "outputs": [],
   "source": [
    "#Script\n",
    "\n",
    "#importing the libraries, adjusting the display settings\n",
    "# import pandas as pd\n",
    "# pd.set_option('display.max_columns', None)\n",
    "# pd.set_option('display.width', 500)\n",
    "# pd.set_option('display.expand_frame_repr', False)\n",
    "# from sklearn.feature_extraction.text import TfidfVectorizer\n",
    "# from sklearn.metrics.pairwise import cosine_similarity\n",
    "\n",
    "#reading the dataset\n",
    "# df = pd.read_csv(\"/kaggle/input/the-movies-dataset/movies_metadata.csv\", low_memory=False)\n",
    "\n",
    "#running tfidf vectorizer,filling uo NaNs of the variable 'overview', fitting and transforming tfidf matrix, calculating cosine similarity \n",
    "def calculate_cosine_sim(dataframe):\n",
    "    tfidf = TfidfVectorizer(stop_words='english')\n",
    "    dataframe['overview'] = dataframe['overview'].fillna('')\n",
    "    tfidf_matrix = tfidf.fit_transform(dataframe['overview'])\n",
    "    cosine_sim = cosine_similarity(tfidf_matrix, tfidf_matrix)\n",
    "    return cosine_sim\n",
    "\n",
    "\n",
    "def content_based_recommender(title, cosine_sim, dataframe):\n",
    "    # creating indices \n",
    "    indices = pd.Series(dataframe.index, index=dataframe['title'])\n",
    "    indices = indices[~indices.index.duplicated(keep='last')]\n",
    "    # locating the index of title\n",
    "    movie_index = indices[title]\n",
    "    # computing similarity scores based on the title \n",
    "    similarity_scores = pd.DataFrame(cosine_sim[movie_index], columns=[\"score\"])\n",
    "    # sorting the first 10 movies (apart from the movie in question)\n",
    "    movie_indices = similarity_scores.sort_values(\"score\", ascending=False)[1:11].index\n",
    "    return dataframe['title'].iloc[movie_indices]\n",
    "\n"
   ]
  },
  {
   "cell_type": "code",
   "execution_count": 23,
   "id": "0cdbfbc5",
   "metadata": {
    "execution": {
     "iopub.execute_input": "2024-09-20T11:54:27.663809Z",
     "iopub.status.busy": "2024-09-20T11:54:27.663381Z",
     "iopub.status.idle": "2024-09-20T11:54:27.696268Z",
     "shell.execute_reply": "2024-09-20T11:54:27.694992Z"
    },
    "papermill": {
     "duration": 0.047655,
     "end_time": "2024-09-20T11:54:27.699126",
     "exception": false,
     "start_time": "2024-09-20T11:54:27.651471",
     "status": "completed"
    },
    "tags": []
   },
   "outputs": [
    {
     "data": {
      "text/plain": [
       "12481                                      The Dark Knight\n",
       "150                                         Batman Forever\n",
       "1328                                        Batman Returns\n",
       "15511                           Batman: Under the Red Hood\n",
       "585                                                 Batman\n",
       "21194    Batman Unmasked: The Psychology of the Dark Kn...\n",
       "9230                    Batman Beyond: Return of the Joker\n",
       "18035                                     Batman: Year One\n",
       "19792              Batman: The Dark Knight Returns, Part 1\n",
       "3095                          Batman: Mask of the Phantasm\n",
       "Name: title, dtype: object"
      ]
     },
     "execution_count": 23,
     "metadata": {},
     "output_type": "execute_result"
    }
   ],
   "source": [
    "content_based_recommender('The Dark Knight Rises', cosine_sim, df)"
   ]
  }
 ],
 "metadata": {
  "kaggle": {
   "accelerator": "none",
   "dataSources": [
    {
     "datasetId": 3405,
     "sourceId": 6663,
     "sourceType": "datasetVersion"
    },
    {
     "datasetId": 5737874,
     "sourceId": 9441878,
     "sourceType": "datasetVersion"
    }
   ],
   "dockerImageVersionId": 30761,
   "isGpuEnabled": false,
   "isInternetEnabled": true,
   "language": "python",
   "sourceType": "notebook"
  },
  "kernelspec": {
   "display_name": "Python 3",
   "language": "python",
   "name": "python3"
  },
  "language_info": {
   "codemirror_mode": {
    "name": "ipython",
    "version": 3
   },
   "file_extension": ".py",
   "mimetype": "text/x-python",
   "name": "python",
   "nbconvert_exporter": "python",
   "pygments_lexer": "ipython3",
   "version": "3.10.14"
  },
  "papermill": {
   "default_parameters": {},
   "duration": 62.659296,
   "end_time": "2024-09-20T11:54:29.837873",
   "environment_variables": {},
   "exception": null,
   "input_path": "__notebook__.ipynb",
   "output_path": "__notebook__.ipynb",
   "parameters": {},
   "start_time": "2024-09-20T11:53:27.178577",
   "version": "2.6.0"
  }
 },
 "nbformat": 4,
 "nbformat_minor": 5
}
